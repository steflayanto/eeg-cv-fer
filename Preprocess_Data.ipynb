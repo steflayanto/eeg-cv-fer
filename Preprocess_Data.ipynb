{
  "nbformat": 4,
  "nbformat_minor": 0,
  "metadata": {
    "colab": {
      "name": "Preprocess Data.ipynb",
      "provenance": []
    },
    "kernelspec": {
      "name": "python3",
      "display_name": "Python 3"
    },
    "language_info": {
      "name": "python"
    },
    "accelerator": "GPU"
  },
  "cells": [
    {
      "cell_type": "code",
      "metadata": {
        "colab": {
          "base_uri": "https://localhost:8080/"
        },
        "id": "fCtf8IQv-PNy",
        "outputId": "3b79fcd7-ed97-4ed8-be65-b86c8486b450"
      },
      "source": [
        "from google.colab import drive\n",
        "drive.mount('/content/drive')"
      ],
      "execution_count": 5,
      "outputs": [
        {
          "output_type": "stream",
          "text": [
            "Drive already mounted at /content/drive; to attempt to forcibly remount, call drive.mount(\"/content/drive\", force_remount=True).\n"
          ],
          "name": "stdout"
        }
      ]
    },
    {
      "cell_type": "code",
      "metadata": {
        "id": "XVYGP2Hd-fdR"
      },
      "source": [
        "import torch\n",
        "import torch.nn.functional as F\n",
        "import torch.nn as nn\n",
        "import torchvision\n",
        "import torchvision.datasets as datasets\n",
        "import matplotlib.pyplot as plt\n",
        "import numpy as np\n",
        "import pickle\n",
        "import matplotlib.pyplot as plt\n",
        "import pandas as pd\n",
        "from sklearn import preprocessing\n",
        "from sklearn.model_selection import train_test_split\n",
        "from scipy.fft import fft, fftfreq"
      ],
      "execution_count": 6,
      "outputs": []
    },
    {
      "cell_type": "code",
      "metadata": {
        "colab": {
          "base_uri": "https://localhost:8080/"
        },
        "id": "Ujs3k7LJ_nvT",
        "outputId": "10b63bd7-36c0-49d9-b79c-03059bb8df30"
      },
      "source": [
        "device = torch.device(\"cuda:0\" if torch.cuda.is_available() else \"cpu\")\n",
        "print(device)\n",
        "all_sub_data = []\n",
        "subjects_list = ['01', '02', '03', '04', '05', '06', '07', '08', '09', '10', '11', '12', '13', '14', '15', '16', '17', '18', '19', '20', '21', '22', '23', '24', '25', '26', '27', '28', '29', '30', '31', '32']\n",
        "for sub in subjects_list:\n",
        "    path = \"/content/drive/MyDrive/CSE 481 Capstone/data_preprocessed_python/s\"+sub+\".dat\"\n",
        "    x = pickle.load(open(path, 'rb'), encoding = 'latin1')\n",
        "    sub_data = x['data']\n",
        "    sub_eeg = sub_data[:, :32, 3 * 128:]  #indexing EEG signals from physiological data\n",
        "    all_sub_data.extend(sub_eeg)\n",
        "    print(sub)\n",
        "all_sub_data = np.array(all_sub_data)\n",
        "all_sub_data.shape"
      ],
      "execution_count": 4,
      "outputs": [
        {
          "output_type": "stream",
          "text": [
            "cpu\n",
            "01\n",
            "02\n",
            "03\n",
            "04\n",
            "05\n",
            "06\n",
            "07\n",
            "08\n",
            "09\n",
            "10\n",
            "11\n",
            "12\n",
            "13\n",
            "14\n",
            "15\n",
            "16\n",
            "17\n",
            "18\n",
            "19\n",
            "20\n",
            "21\n",
            "22\n",
            "23\n",
            "24\n",
            "25\n",
            "26\n",
            "27\n",
            "28\n",
            "29\n",
            "30\n",
            "31\n",
            "32\n"
          ],
          "name": "stdout"
        },
        {
          "output_type": "execute_result",
          "data": {
            "text/plain": [
              "(1280, 32, 7680)"
            ]
          },
          "metadata": {
            "tags": []
          },
          "execution_count": 4
        }
      ]
    },
    {
      "cell_type": "code",
      "metadata": {
        "colab": {
          "base_uri": "https://localhost:8080/"
        },
        "id": "nv4iuVeZCAET",
        "outputId": "c4459e8e-747a-4d01-b6f0-c19b852b35bc"
      },
      "source": [
        "# 32 particpants * 40 trials, 32 channels, 128 * 60 sec\n",
        "all_sub_data.shape"
      ],
      "execution_count": 7,
      "outputs": [
        {
          "output_type": "execute_result",
          "data": {
            "text/plain": [
              "(1280, 32, 7680)"
            ]
          },
          "metadata": {
            "tags": []
          },
          "execution_count": 7
        }
      ]
    },
    {
      "cell_type": "code",
      "metadata": {
        "colab": {
          "base_uri": "https://localhost:8080/",
          "height": 533
        },
        "id": "ILzFr8oYIx_U",
        "outputId": "c5ae25fc-a63a-4bfb-e070-ea2f8907dd5b"
      },
      "source": [
        "# plotting one instance\n",
        "one_instance=all_sub_data[0]\n",
        "print(one_instance.shape)\n",
        "print(one_instance)\n",
        "\n",
        "plt.title('One Instance on Channel 0')\n",
        "plt.plot(np.linspace(1, 7680, 7680), one_instance[0], label='Channel {}'.format(0))\n",
        "plt.xlabel('time')\n",
        "plt.ylabel('signal')\n",
        "plt.legend()\n",
        "plt.show()"
      ],
      "execution_count": 8,
      "outputs": [
        {
          "output_type": "stream",
          "text": [
            "(32, 7680)\n",
            "[[ 4.05213     2.8912102  -1.77958774 ... -2.82648937 -4.47722969\n",
            "  -3.67692812]\n",
            " [ 3.05326186  4.12852886 -0.01624823 ... -2.98702069 -6.28780884\n",
            "  -4.47429041]\n",
            " [ 1.18607868  4.61642327  0.80339867 ... -2.6370776  -7.4065101\n",
            "  -6.75590441]\n",
            " ...\n",
            " [ 2.74540878  3.13796149  4.58457769 ...  6.68885999  6.91232131\n",
            "   5.66901722]\n",
            " [ 2.81410777  3.19246696  5.33090169 ...  2.6401731   6.57464869\n",
            "   7.20846274]\n",
            " [ 3.66600597  4.67147056  5.00733153 ...  2.23958511  3.18256605\n",
            "   4.70807159]]\n"
          ],
          "name": "stdout"
        },
        {
          "output_type": "display_data",
          "data": {
            "image/png": "[encoded data removed]",
            "text/plain": [
              "<Figure size 432x288 with 1 Axes>"
            ]
          },
          "metadata": {
            "tags": [],
            "needs_background": "light"
          }
        }
      ]
    },
    {
      "cell_type": "code",
      "metadata": {
        "colab": {
          "base_uri": "https://localhost:8080/",
          "height": 502
        },
        "id": "I7X_jSQ_aDVS",
        "outputId": "947b3590-292f-4bd2-9393-20895994e8b5"
      },
      "source": [
        "# Signal decomposition for one instance\n",
        "one_instance.shape\n",
        "one_channel = one_instance[0]\n",
        "one_channel.shape\n",
        "fourier = fft(one_channel)\n",
        "freq = fftfreq(one_channel.size, 1/128)\n",
        "print(fourier)\n",
        "print(freq)\n",
        "print(len(freq))\n",
        "num = int(freq.size / 2)\n",
        "print(num)\n",
        "print(freq[:num])\n",
        "\n",
        "# plot\n",
        "plt.title('FFT of One Instance on Channel 0')\n",
        "plt.plot(freq[:num], fourier[:num], label='Channel {}'.format(0))\n",
        "plt.xlabel('freq')\n",
        "plt.ylabel('signal')\n",
        "plt.legend()\n",
        "plt.show()"
      ],
      "execution_count": 9,
      "outputs": [
        {
          "output_type": "stream",
          "text": [
            "[-227.8772063 -0.j          -13.33497984+0.00804628j\n",
            "  -13.3362521 +0.0149731j  ...  -13.33739286-0.02269142j\n",
            "  -13.3362521 -0.0149731j   -13.33497984-0.00804628j]\n",
            "[ 0.          0.01666667  0.03333333 ... -0.05       -0.03333333\n",
            " -0.01666667]\n",
            "7680\n",
            "3840\n",
            "[0.00000000e+00 1.66666667e-02 3.33333333e-02 ... 6.39500000e+01\n",
            " 6.39666667e+01 6.39833333e+01]\n"
          ],
          "name": "stdout"
        },
        {
          "output_type": "stream",
          "text": [
            "/usr/local/lib/python3.7/dist-packages/numpy/core/_asarray.py:83: ComplexWarning: Casting complex values to real discards the imaginary part\n",
            "  return array(a, dtype, copy=False, order=order)\n"
          ],
          "name": "stderr"
        },
        {
          "output_type": "display_data",
          "data": {
            "image/png": "[encoded data removed]",
            "text/plain": [
              "<Figure size 432x288 with 1 Axes>"
            ]
          },
          "metadata": {
            "tags": [],
            "needs_background": "light"
          }
        }
      ]
    },
    {
      "cell_type": "code",
      "metadata": {
        "colab": {
          "base_uri": "https://localhost:8080/",
          "height": 349
        },
        "id": "pimlKWXFYxoq",
        "outputId": "3ccd9578-ebb0-4b0a-8b22-f7f3d1157524"
      },
      "source": [
        "# Split into frequency bands for one instance\n",
        "fourier = fourier[:num]\n",
        "freq = freq[:num]\n",
        "fftalpha = []\n",
        "fftbeta = []\n",
        "ffttheta = []\n",
        "fftgamma = []\n",
        "freqalpha = []\n",
        "freqbeta = []\n",
        "freqtheta = []\n",
        "freqgamma = []\n",
        "for i in range(freq.size):\n",
        "  if (freq[i] >= 1 and freq[i] < 8):\n",
        "    fftalpha.append(fourier[i])\n",
        "    freqalpha.append(freq[i])\n",
        "  elif (freq[i] >= 8 and freq[i] < 14):\n",
        "    fftbeta.append(fourier[i])\n",
        "    freqbeta.append(freq[i])\n",
        "  elif (freq[i] >= 14 and freq[i] < 30):\n",
        "    ffttheta.append(fourier[i])\n",
        "    freqtheta.append(freq[i])\n",
        "  elif (freq[i] >= 30 and freq[i] < 45):\n",
        "    fftgamma.append(fourier[i])\n",
        "    freqgamma.append(freq[i])\n",
        "# plot\n",
        "plt.title('Frequency Bins of One Instance on Channel 0')\n",
        "plt.plot(freqalpha, fftalpha, label='alpha')\n",
        "plt.plot(freqbeta, fftbeta, label='beta')\n",
        "plt.plot(freqtheta, ffttheta, label='theta')\n",
        "plt.plot(freqgamma, fftgamma, label='gamma')\n",
        "plt.xlabel('freq')\n",
        "plt.ylabel('signal')\n",
        "plt.legend()\n",
        "plt.show()"
      ],
      "execution_count": 10,
      "outputs": [
        {
          "output_type": "stream",
          "text": [
            "/usr/local/lib/python3.7/dist-packages/numpy/core/_asarray.py:83: ComplexWarning: Casting complex values to real discards the imaginary part\n",
            "  return array(a, dtype, copy=False, order=order)\n"
          ],
          "name": "stderr"
        },
        {
          "output_type": "display_data",
          "data": {
            "image/png": "[encoded data removed]",
            "text/plain": [
              "<Figure size 432x288 with 1 Axes>"
            ]
          },
          "metadata": {
            "tags": [],
            "needs_background": "light"
          }
        }
      ]
    },
    {
      "cell_type": "code",
      "metadata": {
        "colab": {
          "base_uri": "https://localhost:8080/",
          "height": 1000
        },
        "id": "EVTmDS7fPKiO",
        "outputId": "402e168c-3f65-44ee-9535-15d903c76582"
      },
      "source": [
        "# 1280, 32, 7680 -> 1280, 32, 4, dependent on frequency range\n",
        "# Still working on it so not complete yet, will most likely need to do time window stuff first anyway\n",
        "# print(all_sub_data.shape)\n",
        "# instancesNum = all_sub_data.shape[0]\n",
        "# channelsNum = all_sub_data.shape[1]\n",
        "# for i in range(instancesNum):\n",
        "#   specific_instance = all_sub_data[i]\n",
        "#   for j in range(channelsNum):\n",
        "#     specific_channel = specific_instance[j]\n",
        "#     fourier = fft(specific_channel)\n",
        "#     freq = fftfreq(specific_channel.size, 1/128)\n",
        "#     positiveFreq = int(freq.size / 2)\n",
        "#     fourier = fourier[:positiveFreq]\n",
        "#     freq = fourier[:positiveFreq]\n",
        "#     fftalpha = []\n",
        "#     fftbeta = []\n",
        "#     ffttheta = []\n",
        "#     fftgamma = []\n",
        "#     freqalpha = []\n",
        "#     freqbeta = []\n",
        "#     freqtheta = []\n",
        "#     freqgamma = []\n",
        "#     print(freq.size)\n",
        "#     for k in range(freq.size):\n",
        "#       if (freq[k] >= 1 and freq[k] < 8):\n",
        "#         fftalpha.append(fourier[k])\n",
        "#         freqalpha.append(freq[k])\n",
        "#       elif (freq[k] >= 8 and freq[k] < 14):\n",
        "#         fftbeta.append(fourier[k])\n",
        "#         freqbeta.append(freq[k])\n",
        "#       elif (freq[k] >= 14 and freq[k] < 30):\n",
        "#         ffttheta.append(fourier[k])\n",
        "#         freqtheta.append(freq[k])\n",
        "#       elif (freq[k] >= 30 and freq[k] < 45):\n",
        "#         fftgamma.append(fourier[k])\n",
        "#         freqgamma.append(freq[k])\n",
        "#     new_arr = []\n",
        "#     print(all_sub_data[i][j].shape)\n",
        "#     new_arr.append(np.array(fftalpha))\n",
        "#     new_arr.append(np.array(fftbeta))\n",
        "#     new_arr.append(np.array(ffttheta))\n",
        "#     new_arr.append(np.array(fftgamma))\n",
        "#     print(len(fftalpha))\n",
        "#     new_arr = np.array(new_arr)\n",
        "      \n",
        "#     print(new_arr.shape)\n",
        "#     print(new_arr)\n",
        "#     all_sub_data[i][j] = new_arr\n",
        "#     print(all_sub_data[i][j].shape)"
      ],
      "execution_count": 31,
      "outputs": [
        {
          "output_type": "stream",
          "text": [
            "(1280, 32, 7680)\n",
            "3840\n",
            "(7680,)\n",
            "1170\n",
            "(4,)\n",
            "[array([1.21839746-1.35869726e+03j, 6.90080783-2.35376511e+02j,\n",
            "       5.58581274+3.39669861e+01j, ..., 3.17700573-4.87168021e-03j,\n",
            "       3.17700707-3.24748294e-03j, 3.17701834-1.62138679e-03j])\n",
            " array([ 9.7302175 +408.29584342j, 12.6806249 +169.66196781j,\n",
            "       11.13612164  -7.94650285j,  8.07595613 -15.80612452j,\n",
            "       10.42374165-118.18337845j,  8.97690429-207.78864014j,\n",
            "        8.33527973 +30.55981268j,  8.66924666+138.02685939j,\n",
            "        8.59913617-226.47440993j, 10.0502421 +207.81925713j,\n",
            "       12.49961315+138.83273524j, 10.48064759 +99.94636771j,\n",
            "        9.37923151 +78.15176902j,  9.9579215  +33.019119j  ,\n",
            "       13.58107853 +45.69296884j, 11.00603173 -17.96070656j,\n",
            "        9.92022754-121.52391393j, 12.09889697+197.74303644j,\n",
            "       13.1939047   +6.73272272j, 12.53233024 +73.66418588j,\n",
            "        9.48567355 -27.0559988j , 11.66311103-203.22415742j,\n",
            "       11.55542234-115.15385394j, 10.94483847-104.27237303j,\n",
            "       10.38035808 +45.00505657j,  8.99859803 +43.87542727j,\n",
            "        8.01403477  -3.2103454j ])\n",
            " array([16.50621414-2.65173550e+02j, 22.56090265-1.10008947e+03j,\n",
            "       28.93810671+8.47765824e+01j, 18.20252247-6.32038076e+02j,\n",
            "       27.29170943-7.90650833e+02j, 26.36573848+2.73756617e+01j,\n",
            "       28.15611243-9.81405639e+01j, 14.03384451+3.53680918e+00j,\n",
            "       26.52221411+3.03150486e+02j, 25.24518587+2.69833941e+02j,\n",
            "       15.61263133-1.45488974e+02j, 26.37931709+3.00692299e+02j,\n",
            "       23.31949001-5.06741722e+02j, 26.75725222-4.62034552e+02j,\n",
            "       24.46773951-1.06093040e+02j, 25.94926509-2.19037287e+02j,\n",
            "       17.27416855+5.00221935e+01j, 17.13822193-2.76768686e+02j,\n",
            "       14.09141688+2.42221399e+02j, 26.33892142-1.81624331e+01j,\n",
            "       22.08181546+6.13210522e+01j, 23.41271215-2.91729573e+01j,\n",
            "       16.47227717+1.91365264e+01j, 28.53932719+5.31341302e+01j,\n",
            "       21.41889318-1.11140371e+01j, 15.9154292 +1.35146038e+02j,\n",
            "       28.0748017 -5.91458218e+01j, 16.4047781 +8.49660145e+01j,\n",
            "       26.20630784-1.41634460e+02j, 17.45451684+2.39526631e+00j,\n",
            "       28.61849652-3.33946428e+02j, 23.17348671-1.59867358e+02j,\n",
            "       26.96293245-5.97772028e+01j, 22.11771572+2.62286196e+02j,\n",
            "       16.04460336-1.06041570e+02j, 21.52338722-4.21425726e+01j,\n",
            "       29.26928469+2.14266682e+02j, 27.19396869+8.86343539e+01j,\n",
            "       22.40233647-7.59980184e+01j, 21.71764119+1.42624618e+02j,\n",
            "       22.52280128+1.29181994e+02j, 28.67697955+1.16508619e+01j,\n",
            "       19.97785797-4.41489109e+01j, 15.94730369+2.47710454e+02j,\n",
            "       18.6794437 -3.86960706e+01j, 21.71036305-1.63910886e+02j,\n",
            "       22.40114915-3.82659572e+01j, 23.230677  +1.05247966e+00j,\n",
            "       25.59918213+2.66874308e+01j, 25.42778695+1.86105544e+01j,\n",
            "       24.86671574+4.67837570e+01j, 20.92779165-1.89995714e+02j,\n",
            "       16.55461193-9.01277624e+01j, 20.56387256+1.90944234e+02j,\n",
            "       18.16224665+1.45531512e+01j, 29.71218649-1.97174732e+02j,\n",
            "       19.5411094 +2.10047603e+00j, 16.87639556-3.13016495e+01j,\n",
            "       16.5870076 +4.18497321e+01j, 21.22258987+1.90786180e+02j,\n",
            "       22.9081513 +4.00697408e+01j, 14.79601961+4.11529098e+00j,\n",
            "       21.31905869-9.35827266e+01j, 14.15156788-1.69492651e+02j,\n",
            "       14.15522665-8.61254164e+01j, 19.2593366 +7.43220449e+00j,\n",
            "       17.61475693+9.52526105e+00j, 19.87782101+1.93027742e+00j,\n",
            "       27.73021694-4.52221177e+01j, 18.42308791+4.83206242e+01j,\n",
            "       16.44824032-1.54012413e+01j, 21.54581106-1.06812777e+02j,\n",
            "       15.56937083+2.13327222e+02j, 18.00029763+1.93361197e+01j,\n",
            "       28.54693761-4.88029300e+01j, 15.51320092-1.17851394e+00j,\n",
            "       20.24723424-1.67979845e+02j, 28.77495661-1.51988854e+02j,\n",
            "       28.90113429-2.45312291e+02j, 27.63700493+5.14086843e+01j,\n",
            "       17.59326845+1.21009139e+01j, 28.90621221+1.30838844e+01j,\n",
            "       23.00298174-3.86721095e+01j, 20.49806405+4.95349014e+01j,\n",
            "       18.79021897-6.73101262e+01j, 18.9942591 -1.24851229e+01j])\n",
            " array([44.1167766 +141.81319474j, 40.23427748-990.1919909j ,\n",
            "       30.54513113 +68.57654058j, 40.95525689+467.59210461j,\n",
            "       34.11266246-734.12788997j, 31.23861734-281.50287733j,\n",
            "       42.59397557-928.35802992j, 41.66681254  -3.41744158j,\n",
            "       30.47821541-300.11099125j, 44.38093757-794.63194454j,\n",
            "       40.24410522-117.18586311j, 37.94272679+331.89179312j,\n",
            "       36.52900525+141.85115572j, 35.7308981 +499.20363816j,\n",
            "       40.21519415-160.4602843j , 39.41188119-170.07735952j,\n",
            "       40.59865971-612.49504294j, 41.46146649-196.54934308j,\n",
            "       37.76782664-255.12387117j, 35.02110633 -59.5484898j ,\n",
            "       31.09161947-432.53872754j, 38.33824745-111.66860308j,\n",
            "       37.85691489+226.91430312j, 38.47006796 +46.10483069j,\n",
            "       39.47662904+139.93725501j, 39.73891686+236.36775644j,\n",
            "       42.90168501+202.2434932j , 31.83584701+108.23129237j,\n",
            "       39.31631914 -70.77218087j, 39.17095947+201.88470241j,\n",
            "       43.09670954 +93.5142414j , 33.12796974+149.37016365j,\n",
            "       44.49352103-334.13747431j, 32.69261698+345.04880074j,\n",
            "       43.63456893 +41.10074134j, 34.06457671+243.07975324j,\n",
            "       43.48330132+116.48459545j, 34.74068745 +76.93478024j,\n",
            "       33.74629947 -46.13912399j, 44.45746513 -34.14420698j,\n",
            "       44.89435332-171.20941188j, 37.8479326  +43.08329201j,\n",
            "       40.54886369 -22.07331515j, 37.50070893 -10.6551391j ,\n",
            "       31.0069377   +8.72972228j, 33.96306866 -62.77091127j,\n",
            "       35.15250802-102.61695849j, 41.06171876 -12.36306798j,\n",
            "       44.17426443 -31.09254638j, 42.163966  -165.75037676j,\n",
            "       33.84750252 -43.53619672j, 38.28288017 +82.86513273j,\n",
            "       41.28212563 +75.40953991j, 41.51864783+148.75502814j,\n",
            "       37.82917004 -90.60174919j, 38.63741529 -48.17613784j,\n",
            "       41.70824196 -16.10498228j, 42.75105354 +18.84275102j,\n",
            "       39.49090947 -74.66996988j, 41.63400947  +3.52151976j,\n",
            "       42.64916661 +46.28852537j, 31.02394279 -26.13618655j,\n",
            "       38.76010694  -6.18654357j, 35.37134432 +13.76764001j,\n",
            "       39.76851522 -80.08253747j, 33.08505191+160.64746298j,\n",
            "       33.85139393-107.28343587j, 35.36781569+135.23378664j,\n",
            "       43.28695116 -64.65893336j, 36.95476884  +5.11282079j,\n",
            "       30.54206762+134.17854653j, 37.5439694 +142.95320318j,\n",
            "       30.69946832+108.39211724j, 39.2117455  -12.49452971j,\n",
            "       31.83452393-118.49002915j, 42.65853279+232.42850922j,\n",
            "       35.65519855 +64.22474113j, 33.68700474 -55.7537812j ,\n",
            "       32.13177347+218.38026802j, 33.46451273 +49.65047833j,\n",
            "       43.97615847 -95.66298477j, 36.0216068  +43.92099705j,\n",
            "       31.78917062  +4.29699718j])]\n"
          ],
          "name": "stdout"
        },
        {
          "output_type": "stream",
          "text": [
            "/usr/local/lib/python3.7/dist-packages/ipykernel_launcher.py:43: VisibleDeprecationWarning: Creating an ndarray from ragged nested sequences (which is a list-or-tuple of lists-or-tuples-or ndarrays with different lengths or shapes) is deprecated. If you meant to do this, you must specify 'dtype=object' when creating the ndarray\n"
          ],
          "name": "stderr"
        },
        {
          "output_type": "error",
          "ename": "ValueError",
          "evalue": "ignored",
          "traceback": [
            "\u001b[0;31m---------------------------------------------------------------------------\u001b[0m",
            "\u001b[0;31mValueError\u001b[0m                                Traceback (most recent call last)",
            "\u001b[0;32m<ipython-input-31-67d9da9ce0f6>\u001b[0m in \u001b[0;36m<module>\u001b[0;34m()\u001b[0m\n\u001b[1;32m     45\u001b[0m     \u001b[0mprint\u001b[0m\u001b[0;34m(\u001b[0m\u001b[0mnew_arr\u001b[0m\u001b[0;34m.\u001b[0m\u001b[0mshape\u001b[0m\u001b[0;34m)\u001b[0m\u001b[0;34m\u001b[0m\u001b[0;34m\u001b[0m\u001b[0m\n\u001b[1;32m     46\u001b[0m     \u001b[0mprint\u001b[0m\u001b[0;34m(\u001b[0m\u001b[0mnew_arr\u001b[0m\u001b[0;34m)\u001b[0m\u001b[0;34m\u001b[0m\u001b[0;34m\u001b[0m\u001b[0m\n\u001b[0;32m---> 47\u001b[0;31m     \u001b[0mall_sub_data\u001b[0m\u001b[0;34m[\u001b[0m\u001b[0mi\u001b[0m\u001b[0;34m]\u001b[0m\u001b[0;34m[\u001b[0m\u001b[0mj\u001b[0m\u001b[0;34m]\u001b[0m \u001b[0;34m=\u001b[0m \u001b[0mnew_arr\u001b[0m\u001b[0;34m\u001b[0m\u001b[0;34m\u001b[0m\u001b[0m\n\u001b[0m\u001b[1;32m     48\u001b[0m     \u001b[0mprint\u001b[0m\u001b[0;34m(\u001b[0m\u001b[0mall_sub_data\u001b[0m\u001b[0;34m[\u001b[0m\u001b[0mi\u001b[0m\u001b[0;34m]\u001b[0m\u001b[0;34m[\u001b[0m\u001b[0mj\u001b[0m\u001b[0;34m]\u001b[0m\u001b[0;34m.\u001b[0m\u001b[0mshape\u001b[0m\u001b[0;34m)\u001b[0m\u001b[0;34m\u001b[0m\u001b[0;34m\u001b[0m\u001b[0m\n",
            "\u001b[0;31mValueError\u001b[0m: could not broadcast input array from shape (4) into shape (7680)"
          ]
        }
      ]
    },
    {
      "cell_type": "code",
      "metadata": {
        "colab": {
          "base_uri": "https://localhost:8080/"
        },
        "id": "rdHu4XOxNIYz",
        "outputId": "f2abd20f-7b5a-4177-a09e-56ddcc0d5a16"
      },
      "source": [
        "# Might do actual valence, arousal numbers instead so could change\n",
        "# Labels for 4 categories\n",
        "labels = pd.read_excel(\"/content/drive/MyDrive/CSE 481 Capstone/metadata_xls/participant_ratings.xls\")\n",
        "print(labels.head())\n",
        "sub_labels = []\n",
        "for i in range(len(labels)):\n",
        "  sub_labels.append([labels.loc[i, 'Valence'], labels.loc[i, 'Arousal']])\n",
        "sub_labels = np.array(sub_labels)\n",
        "print(sub_labels.shape)\n",
        "print(sub_labels)"
      ],
      "execution_count": 35,
      "outputs": [
        {
          "output_type": "stream",
          "text": [
            "   Participant_id  Trial  Experiment_id  ...  Dominance  Liking  Familiarity\n",
            "0               1      1              5  ...       7.19    6.05          4.0\n",
            "1               1      2             18  ...       6.94    8.01          4.0\n",
            "2               1      3              4  ...       6.12    8.06          4.0\n",
            "3               1      4             24  ...       8.01    8.22          4.0\n",
            "4               1      5             20  ...       7.19    8.13          1.0\n",
            "\n",
            "[5 rows x 9 columns]\n",
            "(1280, 2)\n",
            "[[6.96 3.92]\n",
            " [7.23 7.15]\n",
            " [4.94 6.01]\n",
            " ...\n",
            " [8.05 7.09]\n",
            " [4.01 7.17]\n",
            " [4.08 5.95]]\n"
          ],
          "name": "stdout"
        }
      ]
    },
    {
      "cell_type": "code",
      "metadata": {
        "id": "tV-UNdrOXUsu"
      },
      "source": [
        "# Realized I can't do this until I'm done windowing and decomposing\n",
        "X_train, X_test, y_train, y_test = train_test_split(all_sub_data, sub_labels, test_size = 0.1, random_state = 42,shuffle = True)\n",
        "print(X_train.shape, y_train.shape, X_test.shape, y_test.shape)"
      ],
      "execution_count": null,
      "outputs": []
    }
  ]
}